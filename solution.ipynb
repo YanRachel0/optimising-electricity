{
 "cells": [
  {
   "cell_type": "code",
   "execution_count": 48,
   "id": "1e9801d3",
   "metadata": {},
   "outputs": [
    {
     "name": "stdout",
     "output_type": "stream",
     "text": [
      "     id  capacity_kwh  kwh_per_100_km      range\n",
      "0  v001           3.0              15  20.000000\n",
      "1  v006           7.0              17  41.176471\n",
      "2  v004           7.0              17  41.176471\n",
      "3  v009          16.0              20  80.000000\n",
      "4  v005           8.0              17  47.058824\n",
      "5  v007           NaN              21        NaN\n",
      "6  v002           5.0              16  31.250000\n",
      "7  v003           4.0              15  26.666667\n",
      "8  v008          12.0              15  80.000000\n"
     ]
    }
   ],
   "source": [
    "import json\n",
    "import pandas as pd\n",
    "import sys\n",
    "\n",
    "f = open('routes.json')\n",
    "routes = json.load(f)\n",
    "routes_df = pd.DataFrame.from_records(routes.get('routes'))\n",
    "\n",
    "f = open('vehicles.json')\n",
    "vehicles = json.load(f)\n",
    "vehicles_df = pd.DataFrame.from_records(vehicles.get('vehicles'))\n",
    "\n",
    "# for each vehicle, need range\n",
    "# for each route, need total_distance\n",
    "# for each route - vehicle pair s.t. r.total_distance <= v.range\n",
    "#   need energy_consumed (r.total_distance/100 * v.kwh_per_100_km)\n",
    "\n",
    "for index, v in vehicles_df.iterrows():\n",
    "    try:\n",
    "        v_range = (v['capacity_kwh'] / v['kwh_per_100_km']) * 100\n",
    "    except:\n",
    "        print(\"Missing information about vehicle {}: Cannot calculate maximum distance\".format(v['id']))\n",
    "        v_range = 0\n",
    "    vehicles_df.loc[vehicles_df.index[index], 'range'] = v_range\n",
    "\n",
    "print(vehicles_df)"
   ]
  },
  {
   "cell_type": "code",
   "execution_count": 49,
   "id": "78c9ccc9",
   "metadata": {},
   "outputs": [
    {
     "name": "stdout",
     "output_type": "stream",
     "text": [
      "{'v001': 3.0, 'v006': 3.4, 'v004': 3.4, 'v009': 4.0, 'v005': 3.4, 'v002': 3.2, 'v003': 3.0, 'v008': 3.0}\n",
      "{'v006': 5.86, 'v004': 5.86, 'v009': 6.9, 'v005': 5.86, 'v008': 5.17}\n",
      "{'v001': 2.62, 'v006': 2.97, 'v004': 2.97, 'v009': 3.5, 'v005': 2.97, 'v002': 2.8, 'v003': 2.62, 'v008': 2.62}\n",
      "{'v006': 5.51, 'v004': 5.51, 'v009': 6.48, 'v005': 5.51, 'v008': 4.86}\n",
      "{'v006': 4.61, 'v004': 4.61, 'v009': 5.42, 'v005': 4.61, 'v002': 4.34, 'v008': 4.07}\n",
      "{'v009': 8.98, 'v005': 7.63, 'v008': 6.74}\n",
      "{'v009': 10.18, 'v008': 7.63}\n",
      "{'v009': 10.54, 'v008': 7.91}\n",
      "   route_id                                              stops  \\\n",
      "0  R2731820  [{'stop_id': 'a441f0e8-77cc-41e7-bc67-14a3a0b8...   \n",
      "1  R5839156  [{'stop_id': 'd69c6f05-85b3-4e84-a3e8-eb2b9d9e...   \n",
      "2  R7527039  [{'stop_id': 'a89089ab-24c2-449e-9f34-df0de29f...   \n",
      "3  R4950482  [{'stop_id': 'aaff3909-880e-428d-81d5-5fa3f5af...   \n",
      "4  R8370118  [{'stop_id': 'd8f928fe-7f25-4c29-b0af-8c8f9a1a...   \n",
      "5  R3102246  [{'stop_id': 'e2f2f764-3129-4a28-bc8f-b93e4b4f...   \n",
      "6  R6660789  [{'stop_id': 'e2f2f764-3129-4a28-bc8f-b93e4b4f...   \n",
      "7  R4673799  [{'stop_id': 'e2f2f764-3129-4a28-bc8f-b93e4b4f...   \n",
      "\n",
      "   total_distance                                  eligible_vehicles  \n",
      "0            20.0  {'v001': 3.0, 'v006': 3.4, 'v004': 3.4, 'v009'...  \n",
      "1            34.5  {'v006': 5.86, 'v004': 5.86, 'v009': 6.9, 'v00...  \n",
      "2            17.5  {'v001': 2.62, 'v006': 2.97, 'v004': 2.97, 'v0...  \n",
      "3            32.4  {'v006': 5.51, 'v004': 5.51, 'v009': 6.48, 'v0...  \n",
      "4            27.1  {'v006': 4.61, 'v004': 4.61, 'v009': 5.42, 'v0...  \n",
      "5            44.9         {'v009': 8.98, 'v005': 7.63, 'v008': 6.74}  \n",
      "6            50.9                      {'v009': 10.18, 'v008': 7.63}  \n",
      "7            52.7                      {'v009': 10.54, 'v008': 7.91}  \n"
     ]
    }
   ],
   "source": [
    "possible_vehicles = []\n",
    "for index, r in routes_df.iterrows():\n",
    "    distance = 0\n",
    "    try:\n",
    "        stops = r['stops']\n",
    "        for s in stops:\n",
    "            distance += s['distance_km']\n",
    "    except:\n",
    "        print(\"Missing information about route {}: Cannot calculate maximum distance\".format(r['route_id']))\n",
    "    routes_df.loc[routes_df.index[index], 'total_distance'] = distance\n",
    "        \n",
    "    eligible_vehicles = {}\n",
    "    for _, v in vehicles_df.iterrows():\n",
    "        try:\n",
    "            if distance <= v['range']:\n",
    "                energy_consumed = round((distance/100) * v['kwh_per_100_km'], 2)\n",
    "                eligible_vehicles.update({v['id']: energy_consumed})\n",
    "        except:\n",
    "            print(\"Unable to calculate energy consumed for route {} with vehicle {}\".format(r['route_id'],v['id']))\n",
    "            \n",
    "    possible_vehicles.append(eligible_vehicles)\n",
    "    print(eligible_vehicles)\n",
    "#     routes_df.loc[routes_df.index[index], 'eligible_vehicles'] = eligible_vehicles\n",
    "\n",
    "routes_df.loc[:, 'eligible_vehicles'] = possible_vehicles\n",
    "print(routes_df)\n",
    "\n",
    "# NB: stops aren't unique"
   ]
  },
  {
   "cell_type": "code",
   "execution_count": 50,
   "id": "7e3cfd89",
   "metadata": {},
   "outputs": [],
   "source": [
    "# Assuming the average electricity consumption value is accurate / an upper estimate \n",
    "#   and we're okay with the vehicles potentially having exactly 0 power left after the route"
   ]
  },
  {
   "cell_type": "code",
   "execution_count": 51,
   "id": "7e5010b2",
   "metadata": {},
   "outputs": [
    {
     "name": "stdout",
     "output_type": "stream",
     "text": [
      "Route R2731820: Vehicle v001\n",
      "Route R5839156: Vehicle v006\n",
      "Route R7527039: Vehicle v001\n",
      "Route R4950482: Vehicle v006\n",
      "Route R8370118: Vehicle v006\n",
      "Route R3102246: Vehicle v009\n",
      "Route R6660789: Vehicle v009\n",
      "Route R4673799: Vehicle v009\n"
     ]
    }
   ],
   "source": [
    "# The list of optimal vehicle-route pairs\n",
    "# Assuming this refers to the best vehicles for each route, regardless of duplication\n",
    "\n",
    "optimal_pairs = {}\n",
    "for _, r in routes_df.iterrows():\n",
    "    out = min(r['eligible_vehicles'], key=lambda x: x[1])\n",
    "    optimal_pairs.update({r['route_id']: out})\n",
    "    \n",
    "for route, vehicle in optimal_pairs.items():\n",
    "    print(\"Route {}: Vehicle {}\".format(route, vehicle))\n",
    "    \n",
    "# What if more than one is best?"
   ]
  },
  {
   "cell_type": "code",
   "execution_count": 52,
   "id": "ba77e9f8",
   "metadata": {},
   "outputs": [
    {
     "name": "stdout",
     "output_type": "stream",
     "text": [
      "Vehicle v009 assigned to route R2731820\n",
      "Vehicle v009 assigned to route R5839156\n",
      "Vehicle v009 assigned to route R7527039\n",
      "Vehicle v009 assigned to route R4950482\n",
      "Vehicle v009 assigned to route R8370118\n",
      "Vehicle v009 assigned to route R3102246\n",
      "Vehicle v009 assigned to route R6660789\n",
      "Vehicle v009 assigned to route R4673799\n",
      "Total energy consumed when using the least efficient vehicles for each route: 56.0kWh\n"
     ]
    }
   ],
   "source": [
    "# The total kWh required to complete all routes sequentially using the least efficient vehicle only\n",
    "# \"least efficient vehicle\" - one vehicle per route or one vehicle overall?\n",
    "# \"Sequentially\" = duplication of vehicles allowed\n",
    "\n",
    "total_energy = 0\n",
    "for _, r in routes_df.iterrows():\n",
    "    out = max(r['eligible_vehicles'].items(), key=lambda x: x[1])\n",
    "    print(\"Vehicle {} assigned to route {}\".format(out[0], r['route_id']))\n",
    "    total_energy += out[1]\n",
    "print(\"Total energy consumed when using the least efficient vehicles for each route: {}kWh\".format(total_energy))\n",
    "\n",
    "# Oh ended up being a single vehicle anyway"
   ]
  },
  {
   "cell_type": "code",
   "execution_count": 53,
   "id": "d86160d9",
   "metadata": {},
   "outputs": [
    {
     "name": "stdout",
     "output_type": "stream",
     "text": [
      "('R7527039', 'v001')\n",
      "('R2731820', 'v003')\n",
      "('R8370118', 'v008')\n",
      "('R4950482', 'v006')\n",
      "('R5839156', 'v004')\n",
      "('R3102246', 'v005')\n",
      "('R6660789', 'v009')\n",
      "Total energy consumed: 38.870000000000005kWh\n"
     ]
    }
   ],
   "source": [
    "# The total kWh required to complete all routes in parallel using the optimal vehicle-route pairs\n",
    "# \"In parallel\" = not enough info to determine how fast each vehicle goes, i.e. how long each journey is\n",
    "# So assume no duplication of vehicles at all: 8 routes and 8 (usable) vehicles\n",
    "\n",
    "# -> essentially a matching problem\n",
    "# Minimise energy\n",
    "# Where vi and ri have an edge between them if vi is in ri.eligible_vehicles[0] weighted ri.eligible_vehicles[1]\n",
    "\n",
    "# Simplest approach: Greedy\n",
    "\n",
    "\n",
    "route_vehicle_pairs = {}\n",
    "for _, r in routes_df.iterrows():\n",
    "    for v, e in r['eligible_vehicles'].items():\n",
    "        route_vehicle_pairs[(r['route_id'], v)] = e\n",
    "\n",
    "route_vehicle_pairs = dict(sorted(route_vehicle_pairs.items(), key=lambda x: x[1]))\n",
    "\n",
    "total_energy = 0\n",
    "used_routes = []\n",
    "used_vehicles = []\n",
    "for x, w in route_vehicle_pairs.items():\n",
    "    if (x[0] not in used_routes) and (x[1] not in used_vehicles):\n",
    "        print(x)\n",
    "        used_routes.append(x[0])\n",
    "        used_vehicles.append(x[1])\n",
    "        total_energy += w\n",
    "    \n",
    "print(\"Total energy consumed: {}kWh\".format(total_energy))\n",
    "\n",
    "# Doesn't account for dead ends"
   ]
  },
  {
   "cell_type": "code",
   "execution_count": 54,
   "id": "581cabbd",
   "metadata": {},
   "outputs": [
    {
     "name": "stdout",
     "output_type": "stream",
     "text": [
      "['R6660789', 'v009', 'R4673799', 'v008', 'R3102246', 'v005', 'R5839156', 'v006', 'R4950482', 'v004', 'R8370118', 'v002', 'R2731820', 'v001', 'R7527039', 'v003']\n",
      "Total energy consumed: 47.04999999999999kWh\n"
     ]
    }
   ],
   "source": [
    "# As a Graph problem:\n",
    "# nodes are either routes or vehicles, edges are possible matches weighted with energy_consumed\n",
    "# construct graph then remove maximal edges to end with minimal matches\n",
    "# making a residual graph s.t. each node is visited exactly once and the total weight is minimised\n",
    "# -> shortest path in a complete weighted digraph (sounds NP-Hard?)\n",
    "\n",
    "# Can optimise it a bit at least, start with routes with least available vehicles\n",
    "# And sort a route_node's neighbours for greedy approach?\n",
    "\n",
    "\n",
    "class Node:\n",
    "    def __init__(self, key):\n",
    "        self.key = key\n",
    "        self.neighbours =  {} # neighbour node : weight\n",
    "        self.visited = False\n",
    "        \n",
    "    def add_neighbour(self, neighbour, weight):\n",
    "        self.neighbours[neighbour] = weight\n",
    "    \n",
    "#     def sort_edges(self):\n",
    "#         sorted_edges = sorted(self.neighbours.items(), key=lambda x: x[1])\n",
    "#         self.neighbours = dict(sorted_edges)\n",
    "\n",
    "class Graph:\n",
    "    def __init__(self, G = {}):\n",
    "        self.nodes = {}\n",
    "\n",
    "    def add_edge(self, r, v, w): \n",
    "        if r not in self.nodes:\n",
    "            self.nodes[r] = Node(r)\n",
    "        self.nodes[r].add_neighbour(v, w)\n",
    "        \n",
    "    def sort_everything(self):\n",
    "        sorted_nodes = sorted(self.nodes.items(), key=lambda x: len(x[1].neighbours))\n",
    "        self.nodes = dict(sorted_nodes)\n",
    "#         for r in self.nodes.items():\n",
    "#             r[1].sort_edges()\n",
    "            \n",
    "G = Graph()\n",
    "for _, r in routes_df.iterrows():\n",
    "    for v, e in r['eligible_vehicles'].items():\n",
    "        G.add_edge(r['route_id'], v, e)\n",
    "G.sort_everything()\n",
    "\n",
    "route_nodes_only = G.nodes.copy()\n",
    "for _, v in vehicles_df.iterrows(): #each vehicle also needs an edge to every route with weight 0\n",
    "    for r in route_nodes_only.items(): # iterate over current copy (only route nodes)\n",
    "        G.add_edge(v['id'], r[0], 0)\n",
    "\n",
    "# for x in G.nodes.items():\n",
    "#     print(x[0])\n",
    "#     print(x[1].neighbours.items())\n",
    "    \n",
    "total_energy = 0\n",
    "\n",
    "def dfs(G, node, path, weight):\n",
    "    path += [node]\n",
    "    G.nodes[node].visited = True\n",
    "    if len(path) == len(route_nodes_only)*2:\n",
    "        print(path)\n",
    "        print(\"Total energy consumed: {}kWh\".format(weight))\n",
    "    for n, w in G.nodes[node].neighbours.items():\n",
    "#         print(\"node {} to node {}\".format(node, n))\n",
    "        if not G.nodes[n].visited and n not in path:\n",
    "#             print(\"using path {} to {} with weight {}\".format(node, n, w))\n",
    "            weight += w\n",
    "            dfs(G, n, path, weight)\n",
    "\n",
    "src = list(G.nodes.items())[0][0]\n",
    "weight = dfs(G, src, [], 0)\n",
    "\n",
    "# Not optimal (see greedy solution), but now at least won't get stuck in dead ends"
   ]
  },
  {
   "cell_type": "code",
   "execution_count": null,
   "id": "9294ead6",
   "metadata": {},
   "outputs": [],
   "source": []
  },
  {
   "cell_type": "code",
   "execution_count": null,
   "id": "56208cc6",
   "metadata": {},
   "outputs": [],
   "source": []
  },
  {
   "cell_type": "code",
   "execution_count": null,
   "id": "1c86fdf2",
   "metadata": {},
   "outputs": [],
   "source": []
  },
  {
   "cell_type": "code",
   "execution_count": null,
   "id": "48b4c159",
   "metadata": {},
   "outputs": [],
   "source": []
  },
  {
   "cell_type": "code",
   "execution_count": null,
   "id": "86ba28f8",
   "metadata": {},
   "outputs": [],
   "source": []
  },
  {
   "cell_type": "code",
   "execution_count": null,
   "id": "23da1429",
   "metadata": {},
   "outputs": [],
   "source": []
  }
 ],
 "metadata": {
  "kernelspec": {
   "display_name": "Python 3",
   "language": "python",
   "name": "python3"
  },
  "language_info": {
   "codemirror_mode": {
    "name": "ipython",
    "version": 3
   },
   "file_extension": ".py",
   "mimetype": "text/x-python",
   "name": "python",
   "nbconvert_exporter": "python",
   "pygments_lexer": "ipython3",
   "version": "3.7.9"
  }
 },
 "nbformat": 4,
 "nbformat_minor": 5
}
